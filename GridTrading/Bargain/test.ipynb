{
 "cells": [
  {
   "cell_type": "code",
   "execution_count": 9,
   "metadata": {},
   "outputs": [
    {
     "data": {
      "text/plain": [
       "{-1: {}, 1: {}}"
      ]
     },
     "execution_count": 9,
     "metadata": {},
     "output_type": "execute_result"
    }
   ],
   "source": [
    "gridlines"
   ]
  },
  {
   "cell_type": "code",
   "execution_count": 13,
   "metadata": {},
   "outputs": [],
   "source": [
    "import json\n",
    "\n",
    "DIRECTION_SHORT = -1\n",
    "DIRECTION_LONG = 1\n",
    "gridlines = {DIRECTION_SHORT: {}, DIRECTION_LONG: {}}      # 记录已开仓网格信息\n",
    "\n",
    "filepath = 'SRGrid.json'\n",
    "try:\n",
    "    with open(filepath, 'r') as file:\n",
    "        data = json.load(file)\n",
    "except FileNotFoundError:\n",
    "    print(\"未找到相关文件: \", filepath)\n",
    "strategy_params = data['strategy_parameters']       # 策略信息\n",
    "if len(data['grid_short_overnight']) != 0:      # 做空的隔夜网格线\n",
    "    gridlines[DIRECTION_SHORT] = data['grid_short_overnight']\n",
    "if len(data['grid_long_overnight']) != 0:       # 做多的隔夜网格线\n",
    "    gridlines[DIRECTION_LONG] = data['grid_long_overnight']\n",
    "\n",
    "# 隔夜网格信息中只记录每个网格线对应的数量，但在实际交易中，我们还需要开平仓的订单编号、委托数量、成交数量等\n",
    "# 来映射网格开仓和平仓之间的关系，因此，这里初始化隔夜持仓中的这些信息\n",
    "for direction, details in gridlines.items():\n",
    "    if len(details) == 0:\n",
    "        continue\n",
    "    new_dict = {}\n",
    "    for i, (grid, volume) in enumerate(details.items()):\n",
    "        new_dict[grid] = {'order_id': -(i+1), 'order_volume': volume, 'trade_volume': volume}\n",
    "    gridlines[direction] = new_dict\n"
   ]
  },
  {
   "cell_type": "code",
   "execution_count": 14,
   "metadata": {},
   "outputs": [
    {
     "data": {
      "text/plain": [
       "{-1: {},\n",
       " 1: {'5771': {'order_id': -1, 'order_volume': 20, 'trade_volume': 20},\n",
       "  '5781': {'order_id': -2, 'order_volume': 20, 'trade_volume': 20},\n",
       "  '5791': {'order_id': -3, 'order_volume': 20, 'trade_volume': 20},\n",
       "  '5801': {'order_id': -4, 'order_volume': 20, 'trade_volume': 20},\n",
       "  '5811': {'order_id': -5, 'order_volume': 20, 'trade_volume': 20},\n",
       "  '5821': {'order_id': -6, 'order_volume': 20, 'trade_volume': 20},\n",
       "  '5831': {'order_id': -7, 'order_volume': 20, 'trade_volume': 20},\n",
       "  '5841': {'order_id': -8, 'order_volume': 20, 'trade_volume': 20},\n",
       "  '5851': {'order_id': -9, 'order_volume': 20, 'trade_volume': 20},\n",
       "  '5861': {'order_id': -10, 'order_volume': 20, 'trade_volume': 20},\n",
       "  '5871': {'order_id': -11, 'order_volume': 20, 'trade_volume': 20},\n",
       "  '5881': {'order_id': -12, 'order_volume': 20, 'trade_volume': 20},\n",
       "  '5891': {'order_id': -13, 'order_volume': 20, 'trade_volume': 20},\n",
       "  '5898': {'order_id': -14, 'order_volume': 20, 'trade_volume': 20},\n",
       "  '5917': {'order_id': -15, 'order_volume': 20, 'trade_volume': 20},\n",
       "  '5920': {'order_id': -16, 'order_volume': 20, 'trade_volume': 20},\n",
       "  '5923': {'order_id': -17, 'order_volume': 20, 'trade_volume': 20},\n",
       "  '5933': {'order_id': -18, 'order_volume': 20, 'trade_volume': 20},\n",
       "  '5935': {'order_id': -19, 'order_volume': 20, 'trade_volume': 20},\n",
       "  '5971': {'order_id': -20, 'order_volume': 20, 'trade_volume': 20},\n",
       "  '5981': {'order_id': -21, 'order_volume': 20, 'trade_volume': 20},\n",
       "  '5991': {'order_id': -22, 'order_volume': 20, 'trade_volume': 20},\n",
       "  '6001': {'order_id': -23, 'order_volume': 20, 'trade_volume': 20},\n",
       "  '6011': {'order_id': -24, 'order_volume': 20, 'trade_volume': 20},\n",
       "  '5863': {'order_id': -25, 'order_volume': 20, 'trade_volume': 20},\n",
       "  '6045': {'order_id': -26, 'order_volume': 20, 'trade_volume': 20},\n",
       "  '6052': {'order_id': -27, 'order_volume': 20, 'trade_volume': 20},\n",
       "  '6055': {'order_id': -28, 'order_volume': 20, 'trade_volume': 20},\n",
       "  '6054': {'order_id': -29, 'order_volume': 20, 'trade_volume': 20},\n",
       "  '6081': {'order_id': -30, 'order_volume': 20, 'trade_volume': 20},\n",
       "  '6088': {'order_id': -31, 'order_volume': 20, 'trade_volume': 20},\n",
       "  '6097': {'order_id': -32, 'order_volume': 20, 'trade_volume': 20},\n",
       "  '6106': {'order_id': -33, 'order_volume': 20, 'trade_volume': 20},\n",
       "  '6108': {'order_id': -34, 'order_volume': 20, 'trade_volume': 20},\n",
       "  '6109': {'order_id': -35, 'order_volume': 20, 'trade_volume': 20},\n",
       "  '6130': {'order_id': -36, 'order_volume': 12, 'trade_volume': 12},\n",
       "  '6139': {'order_id': -37, 'order_volume': 20, 'trade_volume': 20},\n",
       "  '6148': {'order_id': -38, 'order_volume': 20, 'trade_volume': 20},\n",
       "  '6157': {'order_id': -39, 'order_volume': 20, 'trade_volume': 20},\n",
       "  '6166': {'order_id': -40, 'order_volume': 20, 'trade_volume': 20},\n",
       "  '6173': {'order_id': -41, 'order_volume': 20, 'trade_volume': 20},\n",
       "  '6180': {'order_id': -42, 'order_volume': 20, 'trade_volume': 20},\n",
       "  '6187': {'order_id': -43, 'order_volume': 20, 'trade_volume': 20},\n",
       "  '6194': {'order_id': -44, 'order_volume': 20, 'trade_volume': 20},\n",
       "  '6201': {'order_id': -45, 'order_volume': 20, 'trade_volume': 20},\n",
       "  '6209': {'order_id': -46, 'order_volume': 20, 'trade_volume': 20},\n",
       "  '6217': {'order_id': -47, 'order_volume': 5, 'trade_volume': 5},\n",
       "  '6224': {'order_id': -48, 'order_volume': 20, 'trade_volume': 20},\n",
       "  '6231': {'order_id': -49, 'order_volume': 20, 'trade_volume': 20},\n",
       "  '6238': {'order_id': -50, 'order_volume': 20, 'trade_volume': 20},\n",
       "  '6250': {'order_id': -51, 'order_volume': 20, 'trade_volume': 20},\n",
       "  '6262': {'order_id': -52, 'order_volume': 16, 'trade_volume': 16},\n",
       "  '6284': {'order_id': -53, 'order_volume': 14, 'trade_volume': 14},\n",
       "  '6292': {'order_id': -54, 'order_volume': 14, 'trade_volume': 14},\n",
       "  '6299': {'order_id': -55, 'order_volume': 14, 'trade_volume': 14},\n",
       "  '6308': {'order_id': -56, 'order_volume': 14, 'trade_volume': 14},\n",
       "  '6315': {'order_id': -57, 'order_volume': 8, 'trade_volume': 8},\n",
       "  '6322': {'order_id': -58, 'order_volume': 14, 'trade_volume': 14},\n",
       "  '6329': {'order_id': -59, 'order_volume': 14, 'trade_volume': 14},\n",
       "  '6336': {'order_id': -60, 'order_volume': 14, 'trade_volume': 14},\n",
       "  '6343': {'order_id': -61, 'order_volume': 15, 'trade_volume': 15},\n",
       "  '6350': {'order_id': -62, 'order_volume': 15, 'trade_volume': 15},\n",
       "  '6357': {'order_id': -63, 'order_volume': 15, 'trade_volume': 15},\n",
       "  '6364': {'order_id': -64, 'order_volume': 15, 'trade_volume': 15},\n",
       "  '6371': {'order_id': -65, 'order_volume': 15, 'trade_volume': 15},\n",
       "  '6378': {'order_id': -66, 'order_volume': 15, 'trade_volume': 15},\n",
       "  '6385': {'order_id': -67, 'order_volume': 16, 'trade_volume': 16},\n",
       "  '6392': {'order_id': -68, 'order_volume': 16, 'trade_volume': 16},\n",
       "  '6399': {'order_id': -69, 'order_volume': 16, 'trade_volume': 16},\n",
       "  '6406': {'order_id': -70, 'order_volume': 16, 'trade_volume': 16},\n",
       "  '6413': {'order_id': -71, 'order_volume': 16, 'trade_volume': 16},\n",
       "  '6420': {'order_id': -72, 'order_volume': 16, 'trade_volume': 16},\n",
       "  '6426': {'order_id': -73, 'order_volume': 16, 'trade_volume': 16},\n",
       "  '6432': {'order_id': -74, 'order_volume': 16, 'trade_volume': 16},\n",
       "  '6441': {'order_id': -75, 'order_volume': 15, 'trade_volume': 15},\n",
       "  '6449': {'order_id': -76, 'order_volume': 15, 'trade_volume': 15},\n",
       "  '6456': {'order_id': -77, 'order_volume': 15, 'trade_volume': 15},\n",
       "  '6465': {'order_id': -78, 'order_volume': 16, 'trade_volume': 16},\n",
       "  '6473': {'order_id': -79, 'order_volume': 16, 'trade_volume': 16},\n",
       "  '6491': {'order_id': -80, 'order_volume': 16, 'trade_volume': 16},\n",
       "  '6495': {'order_id': -81, 'order_volume': 10, 'trade_volume': 10},\n",
       "  '6500': {'order_id': -82, 'order_volume': 16, 'trade_volume': 16},\n",
       "  '6509': {'order_id': -83, 'order_volume': 16, 'trade_volume': 16},\n",
       "  '6517': {'order_id': -84, 'order_volume': 16, 'trade_volume': 16},\n",
       "  '6522': {'order_id': -85, 'order_volume': 16, 'trade_volume': 16},\n",
       "  '6527': {'order_id': -86, 'order_volume': 16, 'trade_volume': 16},\n",
       "  '6535': {'order_id': -87, 'order_volume': 16, 'trade_volume': 16}}}"
      ]
     },
     "execution_count": 14,
     "metadata": {},
     "output_type": "execute_result"
    }
   ],
   "source": [
    "gridlines"
   ]
  }
 ],
 "metadata": {
  "kernelspec": {
   "display_name": "Python 3",
   "language": "python",
   "name": "python3"
  },
  "language_info": {
   "codemirror_mode": {
    "name": "ipython",
    "version": 3
   },
   "file_extension": ".py",
   "mimetype": "text/x-python",
   "name": "python",
   "nbconvert_exporter": "python",
   "pygments_lexer": "ipython3",
   "version": "3.11.5"
  }
 },
 "nbformat": 4,
 "nbformat_minor": 2
}
